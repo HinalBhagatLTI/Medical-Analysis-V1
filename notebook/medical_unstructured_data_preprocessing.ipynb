{
 "cells": [
  {
   "cell_type": "code",
   "execution_count": 108,
   "id": "3ba0767d",
   "metadata": {},
   "outputs": [],
   "source": [
    "import pandas as pd\n",
    "import re\n",
    "import nltk\n",
    "from nltk.corpus import stopwords\n",
    "import spacy\n",
    "from sklearn.feature_extraction.text import TfidfVectorizer"
   ]
  },
  {
   "cell_type": "code",
   "execution_count": 109,
   "id": "587cd425",
   "metadata": {},
   "outputs": [
    {
     "name": "stderr",
     "output_type": "stream",
     "text": [
      "[nltk_data] Downloading package stopwords to\n",
      "[nltk_data]     C:\\Users\\T8633\\AppData\\Roaming\\nltk_data...\n",
      "[nltk_data]   Package stopwords is already up-to-date!\n"
     ]
    }
   ],
   "source": [
    "#Download stopwords \n",
    "nltk.download('stopwords')\n",
    "stop = set(stopwords.words(\"english\"))"
   ]
  },
  {
   "cell_type": "code",
   "execution_count": 110,
   "id": "31acc7e7",
   "metadata": {},
   "outputs": [],
   "source": [
    "# Load data\n",
    "df = pd.read_csv(\"C:\\\\Users\\\\T8633\\\\Medical-Analysis\\\\data\\\\MTS_samples.csv\")\n"
   ]
  },
  {
   "cell_type": "code",
   "execution_count": 111,
   "id": "9f09c2fc",
   "metadata": {},
   "outputs": [],
   "source": [
    "\n",
    "#Convert transcription to string and drop blanks\n",
    "df['transcription'] = df['transcription'].astype(str)\n",
    "df = df[df['transcription'].str.strip() != ''].reset_index(drop=True)\n"
   ]
  },
  {
   "cell_type": "code",
   "execution_count": 112,
   "id": "18f831b6",
   "metadata": {},
   "outputs": [],
   "source": [
    "# Normalize whitespace and remove invisible characters\n",
    "def normalize_text(text):\n",
    "    text = text.replace('\\xa0', ' ').replace('\\u200b', ' ')\n",
    "    text = re.sub(r'\\r\\n|\\r', '\\n', text)\n",
    "    text = re.sub(r'\\s+', ' ', text).strip()\n",
    "    return text\n",
    "\n",
    "df['transcription'] = df['transcription'].map(normalize_text)"
   ]
  },
  {
   "cell_type": "code",
   "execution_count": 113,
   "id": "488ca37f",
   "metadata": {},
   "outputs": [],
   "source": [
    "# Basic cleaning\n",
    "def basic_clean(text):\n",
    "    text = text.lower()\n",
    "    text = re.sub(r'\\b(subjective|objective|assessment|plan|hpi|pmh|ros|pe):', ' ', text)\n",
    "    text = re.sub(r'[^\\x00-\\x7f]', ' ', text)  # remove non-ASCII\n",
    "    text = re.sub(r'\\s+', ' ', text).strip()\n",
    "    return text\n",
    "\n",
    "df['clean_text'] = df['transcription'].map(basic_clean)"
   ]
  },
  {
   "cell_type": "code",
   "execution_count": 114,
   "id": "ad9bbdfc",
   "metadata": {},
   "outputs": [],
   "source": [
    " #Normalize spacing (split camelCase, digits from letters)\n",
    "def normalize_spacing(text):\n",
    "    text = re.sub(r'(?<=[a-z])(?=[A-Z])', ' ', text)\n",
    "    text = re.sub(r'(?<=[a-zA-Z])(?=\\d)', ' ', text)\n",
    "    text = re.sub(r'(?<=\\d)(?=[a-zA-Z])', ' ', text)\n",
    "    return text\n",
    "\n",
    "df['clean_text'] = df['clean_text'].map(normalize_spacing)\n",
    "\n",
    "# Remove common medical headers and boilerplate phrases\n",
    "df['clean_text'] = df['clean_text'].str.replace(\n",
    "    r'\\b(preoperative diagnosis|preoperative diagnoses|postoperative diagnosis|history of present illness|past medical history|description)\\b[:]*', \n",
    "    '', \n",
    "    regex=True\n",
    "\n",
    ")\n",
    "\n",
    "# Remove duplicate consecutive words from clean_text BEFORE lemmatization\n",
    "df['clean_text'] = df['clean_text'].str.replace(r'\\b(\\w+)( \\1\\b)+', r'\\1', regex=True)"
   ]
  },
  {
   "cell_type": "code",
   "execution_count": 115,
   "id": "6c74d960",
   "metadata": {},
   "outputs": [],
   "source": [
    "# Load spaCy model\n",
    "nlp = spacy.load(\"en_core_web_sm\", disable=[\"parser\", \"ner\"])\n",
    "\n",
    "# Tokenize and lemmatize\n",
    "def tokenize_lemmatize(text):\n",
    "    doc = nlp(text)\n",
    "    tokens = [\n",
    "        tok.lemma_.lower().strip()\n",
    "        for tok in doc\n",
    "        if tok.is_alpha and tok.lemma_ not in stop and len(tok) > 2\n",
    "    ]\n",
    "    return \" \".join(tokens)\n",
    "\n",
    "df['nlp_text'] = df['clean_text'].map(tokenize_lemmatize)\n",
    "\n",
    "# Remove duplicate consecutive words\n",
    "df['nlp_text'] = df['nlp_text'].str.replace(r'\\b(\\w+)( \\1\\b)+', r'\\1', regex=True)"
   ]
  },
  {
   "cell_type": "code",
   "execution_count": 118,
   "id": "79ce0799",
   "metadata": {},
   "outputs": [],
   "source": [
    "def remove_repeated_phrases(text, max_ngram=5):\n",
    "    words = text.split()\n",
    "    seen = set()\n",
    "    result = []\n",
    "    i = 0\n",
    "    while i < len(words):\n",
    "        for n in range(max_ngram, 1, -1):  # Try longer phrases first\n",
    "            if i + n <= len(words):\n",
    "                phrase = ' '.join(words[i:i+n])\n",
    "                if phrase in seen:\n",
    "                    i += n\n",
    "                    break\n",
    "                seen.add(phrase)\n",
    "        else:\n",
    "            result.append(words[i])\n",
    "            i += 1\n",
    "    return ' '.join(result)\n",
    "\n",
    "df['nlp_text'] = df['nlp_text'].map(lambda x: remove_repeated_phrases(x))"
   ]
  },
  {
   "cell_type": "code",
   "execution_count": 119,
   "id": "df3e62fa",
   "metadata": {},
   "outputs": [
    {
     "name": "stdout",
     "output_type": "stream",
     "text": [
      "TF-IDF shape: (4997, 2000)\n"
     ]
    }
   ],
   "source": [
    "# Drop empty rows\n",
    "df = df[df['nlp_text'].str.strip() != ''].reset_index(drop=True)\n",
    "\n",
    "# TF-IDF Vectorization\n",
    "vectorizer = TfidfVectorizer(max_features=2000, ngram_range=(1, 2))\n",
    "X_tfidf = vectorizer.fit_transform(df['nlp_text'])\n",
    "\n",
    "# Output shape\n",
    "print(\"TF-IDF shape:\", X_tfidf.shape)\n"
   ]
  },
  {
   "cell_type": "code",
   "execution_count": 120,
   "id": "a83eec0d",
   "metadata": {},
   "outputs": [
    {
     "data": {
      "text/html": [
       "<div>\n",
       "<style scoped>\n",
       "    .dataframe tbody tr th:only-of-type {\n",
       "        vertical-align: middle;\n",
       "    }\n",
       "\n",
       "    .dataframe tbody tr th {\n",
       "        vertical-align: top;\n",
       "    }\n",
       "\n",
       "    .dataframe thead th {\n",
       "        text-align: right;\n",
       "    }\n",
       "</style>\n",
       "<table border=\"1\" class=\"dataframe\">\n",
       "  <thead>\n",
       "    <tr style=\"text-align: right;\">\n",
       "      <th></th>\n",
       "      <th>clean_text</th>\n",
       "      <th>nlp_text</th>\n",
       "    </tr>\n",
       "  </thead>\n",
       "  <tbody>\n",
       "    <tr>\n",
       "      <th>0</th>\n",
       "      <td>, this 23-year-old white female presents with ...</td>\n",
       "      <td>year old white female present complaint allerg...</td>\n",
       "    </tr>\n",
       "    <tr>\n",
       "      <th>1</th>\n",
       "      <td>, he has difficulty climbing stairs, difficult...</td>\n",
       "      <td>difficulty climb stair difficulty airline seat...</td>\n",
       "    </tr>\n",
       "    <tr>\n",
       "      <th>2</th>\n",
       "      <td>, i have seen abc today. he is a very pleasan...</td>\n",
       "      <td>see abc today pleasant gentleman year old poun...</td>\n",
       "    </tr>\n",
       "    <tr>\n",
       "      <th>3</th>\n",
       "      <td>2-d m-mode: , ,1. left atrial enlargement with...</td>\n",
       "      <td>mode leave atrial enlargement diameter normal ...</td>\n",
       "    </tr>\n",
       "    <tr>\n",
       "      <th>4</th>\n",
       "      <td>1. the left ventricular cavity size and wall t...</td>\n",
       "      <td>left ventricular cavity size wall thickness ap...</td>\n",
       "    </tr>\n",
       "    <tr>\n",
       "      <th>5</th>\n",
       "      <td>, morbid obesity., ,morbid obesity.,procedure...</td>\n",
       "      <td>morbid obesity laparoscopic antecolic antegast...</td>\n",
       "    </tr>\n",
       "    <tr>\n",
       "      <th>6</th>\n",
       "      <td>,1. deformity, right breast reconstruction.,2....</td>\n",
       "      <td>deformity right breast reconstruction excess s...</td>\n",
       "    </tr>\n",
       "    <tr>\n",
       "      <th>7</th>\n",
       "      <td>2-d echocardiogram,multiple views of the heart...</td>\n",
       "      <td>echocardiogram multiple view heart great vesse...</td>\n",
       "    </tr>\n",
       "    <tr>\n",
       "      <th>8</th>\n",
       "      <td>, lipodystrophy of the abdomen and thighs.,, ...</td>\n",
       "      <td>lipodystrophy abdomen thigh suction assist lip...</td>\n",
       "    </tr>\n",
       "    <tr>\n",
       "      <th>9</th>\n",
       "      <td>,1. normal cardiac chambers size.,2. normal le...</td>\n",
       "      <td>normal cardiac chamber size normal leave ventr...</td>\n",
       "    </tr>\n",
       "  </tbody>\n",
       "</table>\n",
       "</div>"
      ],
      "text/plain": [
       "                                          clean_text  \\\n",
       "0  , this 23-year-old white female presents with ...   \n",
       "1  , he has difficulty climbing stairs, difficult...   \n",
       "2   , i have seen abc today. he is a very pleasan...   \n",
       "3  2-d m-mode: , ,1. left atrial enlargement with...   \n",
       "4  1. the left ventricular cavity size and wall t...   \n",
       "5   , morbid obesity., ,morbid obesity.,procedure...   \n",
       "6  ,1. deformity, right breast reconstruction.,2....   \n",
       "7  2-d echocardiogram,multiple views of the heart...   \n",
       "8   , lipodystrophy of the abdomen and thighs.,, ...   \n",
       "9  ,1. normal cardiac chambers size.,2. normal le...   \n",
       "\n",
       "                                            nlp_text  \n",
       "0  year old white female present complaint allerg...  \n",
       "1  difficulty climb stair difficulty airline seat...  \n",
       "2  see abc today pleasant gentleman year old poun...  \n",
       "3  mode leave atrial enlargement diameter normal ...  \n",
       "4  left ventricular cavity size wall thickness ap...  \n",
       "5  morbid obesity laparoscopic antecolic antegast...  \n",
       "6  deformity right breast reconstruction excess s...  \n",
       "7  echocardiogram multiple view heart great vesse...  \n",
       "8  lipodystrophy abdomen thigh suction assist lip...  \n",
       "9  normal cardiac chamber size normal leave ventr...  "
      ]
     },
     "execution_count": 120,
     "metadata": {},
     "output_type": "execute_result"
    }
   ],
   "source": [
    "df[['clean_text', 'nlp_text']].head(10)\n"
   ]
  }
 ],
 "metadata": {
  "language_info": {
   "name": "python"
  }
 },
 "nbformat": 4,
 "nbformat_minor": 5
}
